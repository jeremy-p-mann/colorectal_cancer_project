{
 "cells": [
  {
   "cell_type": "markdown",
   "metadata": {},
   "source": [
    "## Basic Feature Engineering\n",
    "\n",
    "Analysis by Jeremy Mann"
   ]
  },
  {
   "cell_type": "markdown",
   "metadata": {},
   "source": [
    "These notes build a preliminary pipeline for extracting statistical features from the wrangled images.\n",
    "\n",
    "More specifically, there will be 4 features, namely the first __ cumulants of the pixel values. This is computed via the unbiased estimator from `scipy.stats.kstat`:\n",
    "\n",
    "https://docs.scipy.org/doc/scipy/reference/generated/scipy.stats.kstat.html\n",
    "\n",
    "Note that this essentially ignores the geometric aspects of the images.\n"
   ]
  },
  {
   "cell_type": "code",
   "execution_count": 2,
   "metadata": {
    "execution": {
     "iopub.execute_input": "2020-05-14T16:57:06.446068Z",
     "iopub.status.busy": "2020-05-14T16:57:06.445599Z",
     "iopub.status.idle": "2020-05-14T16:57:10.601272Z",
     "shell.execute_reply": "2020-05-14T16:57:10.599591Z",
     "shell.execute_reply.started": "2020-05-14T16:57:06.446024Z"
    }
   },
   "outputs": [],
   "source": [
    "import xarray as xr\n",
    "import numpy as np\n",
    "from sklearn.base import BaseEstimator, TransformerMixin\n",
    "from sklearn.pipeline import FeatureUnion, Pipeline \n",
    "from scipy.stats import kstat"
   ]
  },
  {
   "cell_type": "code",
   "execution_count": 3,
   "metadata": {
    "execution": {
     "iopub.execute_input": "2020-05-14T16:57:10.604493Z",
     "iopub.status.busy": "2020-05-14T16:57:10.603872Z",
     "iopub.status.idle": "2020-05-14T16:57:10.615339Z",
     "shell.execute_reply": "2020-05-14T16:57:10.613520Z",
     "shell.execute_reply.started": "2020-05-14T16:57:10.604432Z"
    }
   },
   "outputs": [],
   "source": [
    "def load_netcdf(filepath):\n",
    "    X = xr.open_dataarray(filepath).values\n",
    "    X = X.reshape(X.shape[0], -1)\n",
    "    return X"
   ]
  },
  {
   "cell_type": "code",
   "execution_count": 32,
   "metadata": {
    "execution": {
     "iopub.execute_input": "2020-05-14T17:13:05.086435Z",
     "iopub.status.busy": "2020-05-14T17:13:05.086108Z",
     "iopub.status.idle": "2020-05-14T17:13:05.302123Z",
     "shell.execute_reply": "2020-05-14T17:13:05.300978Z",
     "shell.execute_reply.started": "2020-05-14T17:13:05.086403Z"
    }
   },
   "outputs": [],
   "source": [
    "filepath = '../../data/clean_data/train_data/X_64_L_clean_train.nc'\n",
    "X = load_netcdf(filepath)\n",
    "X.shape"
   ]
  },
  {
   "cell_type": "code",
   "execution_count": 36,
   "metadata": {
    "execution": {
     "iopub.execute_input": "2020-05-14T17:16:50.113631Z",
     "iopub.status.busy": "2020-05-14T17:16:50.112917Z",
     "iopub.status.idle": "2020-05-14T17:16:50.127543Z",
     "shell.execute_reply": "2020-05-14T17:16:50.125646Z",
     "shell.execute_reply.started": "2020-05-14T17:16:50.113584Z"
    }
   },
   "outputs": [],
   "source": [
    "class cumulants_extractor(BaseEstimator, TransformerMixin):\n",
    "    '''\n",
    "    returns a numpy array of all k-th cumulants less than \n",
    "    highest_cumulant (which must be less than 4)\n",
    "    '''\n",
    "    def __init__(self, highest_cumulant):\n",
    "        self.highest_cumulant = highest_cumulant\n",
    "    def fit(self, X, y = None):\n",
    "        return self\n",
    "    \n",
    "    def get_cumulants(self, v):\n",
    "        kstats = np.array([kstat(data = v, n = k) \n",
    "                          for k in range(1, self.highest_cumulant + 1)])\n",
    "        return kstats\n",
    "        \n",
    "    def transform(self, X):\n",
    "        cumulants = np.apply_along_axis(func1d = self.get_cumulants,\n",
    "                                       axis = 1, \n",
    "                                       arr = X,\n",
    "                                       )\n",
    "        return cumulants"
   ]
  },
  {
   "cell_type": "code",
   "execution_count": 39,
   "metadata": {
    "execution": {
     "iopub.execute_input": "2020-05-14T17:17:07.315753Z",
     "iopub.status.busy": "2020-05-14T17:17:07.315411Z",
     "iopub.status.idle": "2020-05-14T17:17:08.315010Z",
     "shell.execute_reply": "2020-05-14T17:17:08.313713Z",
     "shell.execute_reply.started": "2020-05-14T17:17:07.315718Z"
    }
   },
   "outputs": [
    {
     "data": {
      "text/plain": [
       "(3750, 4)"
      ]
     },
     "execution_count": 39,
     "metadata": {},
     "output_type": "execute_result"
    }
   ],
   "source": [
    "c_extractor = cumulants_extractor(highest_cumulant = 4)\n",
    "features = c_extractor.transform(X)\n",
    "features.shape"
   ]
  },
  {
   "cell_type": "markdown",
   "metadata": {},
   "source": [
    "## Quick Test"
   ]
  },
  {
   "cell_type": "code",
   "execution_count": 22,
   "metadata": {
    "execution": {
     "iopub.execute_input": "2020-05-14T17:03:24.657284Z",
     "iopub.status.busy": "2020-05-14T17:03:24.656903Z",
     "iopub.status.idle": "2020-05-14T17:03:24.667356Z",
     "shell.execute_reply": "2020-05-14T17:03:24.665970Z",
     "shell.execute_reply.started": "2020-05-14T17:03:24.657247Z"
    }
   },
   "outputs": [],
   "source": [
    "def cumulants_normal_test(cumulants_extractor):\n",
    "    '''\n",
    "    tests with standard normal distribution whose cumulants are\n",
    "    0, 1, 0, 0, \n",
    "    '''\n",
    "    X = np.random.normal(0, 1, (2, 10**4))\n",
    "    return cumulants_extractor.transform(X)"
   ]
  },
  {
   "cell_type": "code",
   "execution_count": 23,
   "metadata": {
    "execution": {
     "iopub.execute_input": "2020-05-14T17:03:24.999187Z",
     "iopub.status.busy": "2020-05-14T17:03:24.998816Z",
     "iopub.status.idle": "2020-05-14T17:03:25.016721Z",
     "shell.execute_reply": "2020-05-14T17:03:25.014663Z",
     "shell.execute_reply.started": "2020-05-14T17:03:24.999148Z"
    }
   },
   "outputs": [
    {
     "data": {
      "text/plain": [
       "array([[ 0.00281287,  1.00377942,  0.01788164, -0.09940695],\n",
       "       [ 0.00975741,  1.00658412,  0.01221571,  0.14060718]])"
      ]
     },
     "execution_count": 23,
     "metadata": {},
     "output_type": "execute_result"
    }
   ],
   "source": [
    "cumulants_normal_test(c_extractor)"
   ]
  }
 ],
 "metadata": {
  "kernelspec": {
   "display_name": "Python 3",
   "language": "python",
   "name": "python3"
  },
  "language_info": {
   "codemirror_mode": {
    "name": "ipython",
    "version": 3
   },
   "file_extension": ".py",
   "mimetype": "text/x-python",
   "name": "python",
   "nbconvert_exporter": "python",
   "pygments_lexer": "ipython3",
   "version": "3.7.3"
  }
 },
 "nbformat": 4,
 "nbformat_minor": 4
}
