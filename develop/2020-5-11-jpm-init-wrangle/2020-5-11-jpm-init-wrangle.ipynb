{
 "cells": [
  {
   "cell_type": "markdown",
   "metadata": {},
   "source": [
    "## 2020-5-11 \n",
    "\n",
    "Analysis by Jeremy Mann\n",
    "\n",
    "In these notes, we wrangle the each image csv into a single xarray DataArray (or a dataset).\n",
    "\n",
    "### Grey-scale images:\n",
    "Dimensions: 3\n",
    "Shape: (num_of_samples, pixel_width, pixel_height, one_hot_encoded_categories)\n",
    "\n",
    "### Color images:\n",
    "\n",
    "Dimensions: 3\n",
    "Shape: (num_of_samples, pixel_width, pixel_height, one_hot_encoded_categories)\n",
    "Coordinates: color coordinates: ['R', 'G', 'B']\n",
    "\n",
    "c\n",
    "\n",
    "Initially I was going to record the px/length ratio as coordinates in the xarray, but I feel uncomfortable by the differences in sizes between each image type, including the \"rawer\" images from the containing the \"image_tiles\" and \"larger_images'. \n",
    "\n"
   ]
  },
  {
   "cell_type": "code",
   "execution_count": 2,
   "metadata": {
    "execution": {
     "iopub.execute_input": "2020-05-12T16:29:06.733051Z",
     "iopub.status.busy": "2020-05-12T16:29:06.732716Z",
     "iopub.status.idle": "2020-05-12T16:29:11.818752Z",
     "shell.execute_reply": "2020-05-12T16:29:11.817397Z",
     "shell.execute_reply.started": "2020-05-12T16:29:06.733017Z"
    }
   },
   "outputs": [],
   "source": [
    "import numpy as np\n",
    "import pandas as pd\n",
    "import matplotlib.pyplot as plt\n",
    "import xarray as xr\n",
    "from sklearn.model_selection import train_test_split\n",
    "from sklearn.preprocessing import OneHotEncoder"
   ]
  },
  {
   "cell_type": "markdown",
   "metadata": {},
   "source": [
    "## Primary Wranglers;\n",
    "\n",
    "1. Split each data set into train and test set. \n",
    "1. Make the image array\n",
    "    1. X_\\<resolution>_train\n",
    "    1. X_\\<resolution>_test\n",
    "1. Make the label array \n",
    "    1. Y_\\<resolution>_train\n",
    "    1. X_\\<resolution>\\_test\n",
    "1. Save image data as a netcdf file\n",
    "1. Save label data"
   ]
  },
  {
   "cell_type": "code",
   "execution_count": 3,
   "metadata": {
    "execution": {
     "iopub.execute_input": "2020-05-12T16:29:11.821635Z",
     "iopub.status.busy": "2020-05-12T16:29:11.821214Z",
     "iopub.status.idle": "2020-05-12T16:29:11.832708Z",
     "shell.execute_reply": "2020-05-12T16:29:11.830507Z",
     "shell.execute_reply.started": "2020-05-12T16:29:11.821533Z"
    }
   },
   "outputs": [],
   "source": [
    "def gs_images_to_xarray(X):\n",
    "    res = int(np.sqrt(X.shape[1]))\n",
    "    images = X.reshape(-1, res, res)\n",
    "    xr_images = xr.DataArray(data=images, dims=[\"sample\", \"x\", \"y\"])\n",
    "    return xr_images"
   ]
  },
  {
   "cell_type": "code",
   "execution_count": 4,
   "metadata": {
    "execution": {
     "iopub.execute_input": "2020-05-12T16:29:11.840081Z",
     "iopub.status.busy": "2020-05-12T16:29:11.839158Z",
     "iopub.status.idle": "2020-05-12T16:29:11.858358Z",
     "shell.execute_reply": "2020-05-12T16:29:11.856038Z",
     "shell.execute_reply.started": "2020-05-12T16:29:11.840018Z"
    }
   },
   "outputs": [],
   "source": [
    "def rgb_images_to_xarray(X):\n",
    "    res = int(np.sqrt(X.shape[1]/3))\n",
    "    rgb_images = X.reshape(-1, res, res, 3)\n",
    "    color_coords = [\"Red\", \"Green\", \"Blue\"]\n",
    "    xr_rgb_images = xr.DataArray(\n",
    "        data=rgb_images,\n",
    "        dims=[\"sample\", \"x\", \"y\", \"color\"],\n",
    "        coords={\"color\": color_coords},\n",
    "    )\n",
    "    return xr_rgb_images"
   ]
  },
  {
   "cell_type": "code",
   "execution_count": 5,
   "metadata": {
    "execution": {
     "iopub.execute_input": "2020-05-12T16:29:11.863407Z",
     "iopub.status.busy": "2020-05-12T16:29:11.862501Z",
     "iopub.status.idle": "2020-05-12T16:29:11.879736Z",
     "shell.execute_reply": "2020-05-12T16:29:11.874420Z",
     "shell.execute_reply.started": "2020-05-12T16:29:11.863341Z"
    }
   },
   "outputs": [],
   "source": [
    "def labels_to_xarray(y, fitted_encoder):\n",
    "    labels = fitted_encoder.transform(y) \n",
    "    label_coords = [\n",
    "        \"Tumor\",\n",
    "        \"Stroma\",\n",
    "        \"Complex\",\n",
    "        \"Lympho\",\n",
    "        \"Debris\",\n",
    "        \"Mucosa\",\n",
    "        \"Adipose\",\n",
    "        \"Empty\",\n",
    "    ]\n",
    "    dims = [\"sample\", \"label\"]\n",
    "    xrlabel = xr.DataArray(\n",
    "        data=labels #, dims=dims, #coords={\"label\": label_coords}\n",
    "    )\n",
    "    return xrlabel"
   ]
  },
  {
   "cell_type": "code",
   "execution_count": 6,
   "metadata": {
    "execution": {
     "iopub.execute_input": "2020-05-12T16:29:11.979386Z",
     "iopub.status.busy": "2020-05-12T16:29:11.978996Z",
     "iopub.status.idle": "2020-05-12T16:29:11.993652Z",
     "shell.execute_reply": "2020-05-12T16:29:11.992002Z",
     "shell.execute_reply.started": "2020-05-12T16:29:11.979343Z"
    }
   },
   "outputs": [],
   "source": [
    "def save_wrangle_data(filepath, color_type):\n",
    "    data = pd.read_csv(filepath).values\n",
    "    X = data[:, :-1]\n",
    "    y = data[:, -1].reshape(-1, 1)\n",
    "    encoder = OneHotEncoder(sparse = False).fit(y)\n",
    "    \n",
    "    X_train, X_test, y_train, y_test = train_test_split(X, y)\n",
    "\n",
    "    if color_type == \"RGB\":\n",
    "        res = str(int(np.sqrt(X_train.shape[1]/3)))\n",
    "        X_clean_train = rgb_images_to_xarray(X_train)\n",
    "        X_clean_test = rgb_images_to_xarray(X_test)\n",
    "    else:\n",
    "        res = str(int(np.sqrt(X_train.shape[1])))\n",
    "        X_clean_train = gs_images_to_xarray(X_train)\n",
    "        X_clean_test = gs_images_to_xarray(X_test)\n",
    "\n",
    "    y_clean_train = labels_to_xarray(y_train, encoder)\n",
    "    y_clean_test = labels_to_xarray(y_test, encoder)\n",
    "        \n",
    "    descriptor = res + '_' + color_type\n",
    "    \n",
    "    X_clean_train.to_netcdf(\"X_\" + descriptor + \"_clean_train.nc\")\n",
    "    X_clean_test.to_netcdf(\"X_\" + descriptor + \"_clean_test.nc\")\n",
    "    y_clean_train.to_netcdf(\"y_\" + descriptor + \"_clean_train.nc\")\n",
    "    y_clean_test.to_netcdf(\"y_\" + descriptor + \"_clean_test.nc\")\n",
    "\n",
    "    return"
   ]
  },
  {
   "cell_type": "code",
   "execution_count": 7,
   "metadata": {
    "execution": {
     "iopub.execute_input": "2020-05-12T16:29:16.647338Z",
     "iopub.status.busy": "2020-05-12T16:29:16.646962Z",
     "iopub.status.idle": "2020-05-12T16:29:23.344098Z",
     "shell.execute_reply": "2020-05-12T16:29:23.342815Z",
     "shell.execute_reply.started": "2020-05-12T16:29:16.647298Z"
    }
   },
   "outputs": [],
   "source": [
    "direc_path = '/Users/jeremymann/Documents/data-science-projects/crc-dl-tda-project/data/colorectal-histology-mnist/'\n",
    "grey_filenames = ['hmnist_8_8_L.csv', 'hmnist_28_28_L.csv',  'hmnist_64_64_L.csv']\n",
    "color_filenames = ['hmnist_8_8_RGB.csv', 'hmnist_8_8_RGB.csv']\n",
    "\n",
    "for name in grey_filenames:\n",
    "    save_wrangle_data(direc_path + name, 'L')\n",
    "for name in color_filenames:\n",
    "    save_wrangle_data(direc_path + name, 'RGB')"
   ]
  },
  {
   "cell_type": "code",
   "execution_count": 244,
   "metadata": {
    "execution": {
     "iopub.execute_input": "2020-05-11T23:33:48.892558Z",
     "iopub.status.busy": "2020-05-11T23:33:48.892229Z",
     "iopub.status.idle": "2020-05-11T23:33:48.941372Z",
     "shell.execute_reply": "2020-05-11T23:33:48.940250Z",
     "shell.execute_reply.started": "2020-05-11T23:33:48.892525Z"
    }
   },
   "outputs": [],
   "source": [
    "A = xr.load_dataarray('/Users/jeremymann/Documents/data-science-projects/crc-dl-tda-project/data/clean_data/X_28_RGB_clean_test.nc')"
   ]
  },
  {
   "cell_type": "code",
   "execution_count": 251,
   "metadata": {
    "execution": {
     "iopub.execute_input": "2020-05-11T23:36:01.203599Z",
     "iopub.status.busy": "2020-05-11T23:36:01.202781Z",
     "iopub.status.idle": "2020-05-11T23:36:01.388351Z",
     "shell.execute_reply": "2020-05-11T23:36:01.386982Z",
     "shell.execute_reply.started": "2020-05-11T23:36:01.203554Z"
    }
   },
   "outputs": [
    {
     "data": {
      "text/plain": [
       "<matplotlib.image.AxesImage at 0x1a25a214a8>"
      ]
     },
     "execution_count": 251,
     "metadata": {},
     "output_type": "execute_result"
    },
    {
     "data": {
      "image/png": "[encoded data removed]",
      "text/plain": [
       "<Figure size 432x288 with 1 Axes>"
      ]
     },
     "metadata": {
      "needs_background": "light"
     },
     "output_type": "display_data"
    }
   ],
   "source": [
    "plt.imshow(A[1019,:,:,:])"
   ]
  },
  {
   "cell_type": "markdown",
   "metadata": {},
   "source": [
    "# Sanity Check Test:"
   ]
  },
  {
   "cell_type": "code",
   "execution_count": 88,
   "metadata": {
    "execution": {
     "iopub.execute_input": "2020-05-11T21:42:29.466401Z",
     "iopub.status.busy": "2020-05-11T21:42:29.466062Z",
     "iopub.status.idle": "2020-05-11T21:42:31.558427Z",
     "shell.execute_reply": "2020-05-11T21:42:31.557714Z",
     "shell.execute_reply.started": "2020-05-11T21:42:29.466366Z"
    }
   },
   "outputs": [
    {
     "data": {
      "text/plain": [
       "<matplotlib.image.AxesImage at 0x1a22b540f0>"
      ]
     },
     "execution_count": 88,
     "metadata": {},
     "output_type": "execute_result"
    },
    {
     "data": {
      "image/png": "[encoded data removed]",
      "text/plain": [
       "<Figure size 432x288 with 1 Axes>"
      ]
     },
     "metadata": {
      "needs_background": "light"
     },
     "output_type": "display_data"
    }
   ],
   "source": [
    "rgb_28_filepath = 'Documents/data-science-projects/crc-dl-tda-project/data/colorectal-histology-mnist/hmnist_28_28_RGB.csv'\n",
    "X_train, X_test, y_train, y_test = train_test_split_csv(filepath)\n",
    "plt.imshow(rgb_images_to_xarray(X_train)[1000, :, :, :])"
   ]
  },
  {
   "cell_type": "code",
   "execution_count": null,
   "metadata": {},
   "outputs": [],
   "source": []
  }
 ],
 "metadata": {
  "kernelspec": {
   "display_name": "Python 3",
   "language": "python",
   "name": "python3"
  },
  "language_info": {
   "codemirror_mode": {
    "name": "ipython",
    "version": 3
   },
   "file_extension": ".py",
   "mimetype": "text/x-python",
   "name": "python",
   "nbconvert_exporter": "python",
   "pygments_lexer": "ipython3",
   "version": "3.7.3"
  }
 },
 "nbformat": 4,
 "nbformat_minor": 4
}
