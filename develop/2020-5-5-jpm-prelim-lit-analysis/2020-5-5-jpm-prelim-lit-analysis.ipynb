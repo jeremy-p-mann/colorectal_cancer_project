{
 "cells": [
  {
   "cell_type": "markdown",
   "metadata": {},
   "source": [
    "# Preliminary Analysis\n",
    "\n",
    "Notes on the paper introducing the dataset:\n",
    "\n",
    "Kather JN, Weis CA, Bianconi F, Melchers SM, Schad LR, Gaiser T, Marx A, Zollner F: Multi-class texture analysis in colorectal cancer (CRC) histology (2016), Scientific Reports (in press)"
   ]
  },
  {
   "cell_type": "markdown",
   "metadata": {},
   "source": [
    "## Motivation/Context\n",
    "\n",
    "* Colorectal cancer is one of teh most prevalent cancer types, on the rise for poorly understood reasons.\n",
    "* stained histological samples are available for virtually all CRC patients \n",
    "* tumor architectures changes during progression, related to patient prognosis\n",
    "    * \"quantifying tissue composition in CRC is a relevant task in histopathology\"\n",
    "* previous work:\n",
    "    * treats this as a binary classification problem of stroma/tumor\n",
    "    * use own private data set, i.e. results are irreproducible\n",
    "* no benchmark data set for histopathological tissue classification"
   ]
  },
  {
   "cell_type": "markdown",
   "metadata": {},
   "source": [
    "## Contribution\n",
    "\n",
    "primary contribution was introducing a very interesting data set, along with a proof-of-concept/benchmarks ML model(s).\n",
    "\n",
    "1. Made publically available, high quality annotated dataset of CRC tissue slides \n",
    "1. Used \"texture\" feature engineering and \"standard\" sklearn-type ML to train a model to solve a 8 class classification problem \n",
    "1. extended model to a segmentation model for \"very large\" ($ \\sim 10^*8$ pixels) images of tissue\n",
    "\n"
   ]
  },
  {
   "cell_type": "markdown",
   "metadata": {},
   "source": [
    "## Data\n",
    "\n",
    "* 10 H&E stained CRC tissue slides obtained from U. Medical Center Mannheim, Heidelberg University.\n",
    "        * \"standard\" staining technique, color intensity scales with concentration of some protein, usually found on outer surface of the cell.\n",
    "* Manually annotated & tessellated (??) with 8 tissue types. In ML in medicine, this is usually the difficult product to obtain\n",
    "    1. Tumor epithelium\n",
    "    1. simple stroma (tissues with a nonspecific function)\n",
    "    1. complex stroma (heterogenous stroma with isolated tumor cells and/or small number of immune cells)\n",
    "    1. Immune cells\n",
    "    1. debris (e.g. necrosis, hemoorhage, mucus)\n",
    "    1. normal mucosal glands\n",
    "    1. adipose tissue\n",
    "    1. background\n",
    "\n",
    "* broken into $5 \\times 10^3 = 625 \\times 8$ non-overlapping patches\n",
    "    * each class has equal number of samples.\n",
    "    * dim = $150 \\times 150 \\mathrm{px}^2$ = 74 \\times 74 \\mu\\mathrm{m}^2$ ( half $\\mu = 10^{-6}\\mathrm{m}$ per pixel)\n",
    "        * \"average\" cell diameter is around $10 \\mu\\mathrm{m}$ diameter\n",
    "\n"
   ]
  },
  {
   "cell_type": "markdown",
   "metadata": {},
   "source": [
    "## Things to keep in mind\n",
    "\n",
    "* staining intensity varies considerably\n",
    "    * dealt with by making sure \"each of the classes listed above contained both bright and dark samples so that no bias in terms of average greyscale intensity was introduced\"\n",
    "* always be think about meaningless features within data"
   ]
  },
  {
   "cell_type": "markdown",
   "metadata": {},
   "source": [
    "# Their approach: (multi-class) supervised classification problem\n",
    "\n",
    "Want to think of what they did as a \"pipeline\". Not exactly what they did, but I'd argue it's what they should have done.\n",
    "\n",
    "\n",
    "* utilized R and matlab. \n",
    "    * This should be reapproached using sklearn's pipelines and randomized cross validated grid search.\n",
    "* Feature engineered 5 types of \"texture features\"\n",
    "    * Probabilistic approach (\"lower\" and \"higher\" \"histogram\" features\n",
    "        * two sets of (central) moments\n",
    "        * ~ 5 features for lower\n",
    "        * ~10 features for higher\n",
    "    * Signal processing\n",
    "        * Fourier-type features from rotationally invariant features\n",
    "        * 38 \"local binary patterns\" \n",
    "        * 6 \"Gabor filters\" features\n",
    "    * \"grey-level co-occurence matrix\"\n",
    "        * contrast, correlation, etc\n",
    "        * 20 features\n",
    "    * \"perception like features\" \n",
    "        * \"coarseness, contrast, directionality, line-likeness, roughness\"\n",
    "    * independently  \n",
    "* Selected 4 models used: \n",
    "    * 1 nearest neighbor\n",
    "    * RUSboosted decision trees\n",
    "    * linear SVM\n",
    "    * radial basis function SVM \n",
    "* utilized 10 fold cv (argued strat was unneccessary) to rank individual features\n",
    "* assessed 6 combos by successively adding best features\n",
    "* extended algoirothim to segmentation task\n",
    "    * no post-processing of segmentation algorithm\n",
    "\n"
   ]
  },
  {
   "cell_type": "markdown",
   "metadata": {},
   "source": [
    "## Results:"
   ]
  },
  {
   "cell_type": "markdown",
   "metadata": {},
   "source": []
  },
  {
   "cell_type": "markdown",
   "metadata": {},
   "source": [
    "## Critiques\n",
    "\n",
    "* documentation of model/feature selection was not explicit enough\n",
    "    * it felt like they \"manually\" did what sklearn's pipeline/gridsearch performs explicitly\n",
    "* Too many features selected from\n",
    "    * \"higher moments\" went way too high\n",
    "        * I'd need a very good \n",
    "    * in their defense, many of the features were already applied in the literature\n",
    "* CIs for CV model performance not provided, so difficult to interpret the statistical significance of the results comparing some of the models"
   ]
  },
  {
   "cell_type": "code",
   "execution_count": null,
   "metadata": {},
   "outputs": [],
   "source": []
  }
 ],
 "metadata": {
  "kernelspec": {
   "display_name": "Python 3",
   "language": "python",
   "name": "python3"
  },
  "language_info": {
   "codemirror_mode": {
    "name": "ipython",
    "version": 3
   },
   "file_extension": ".py",
   "mimetype": "text/x-python",
   "name": "python",
   "nbconvert_exporter": "python",
   "pygments_lexer": "ipython3",
   "version": "3.7.3"
  }
 },
 "nbformat": 4,
 "nbformat_minor": 4
}
